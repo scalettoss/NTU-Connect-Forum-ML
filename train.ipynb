{
 "cells": [
  {
   "cell_type": "code",
   "execution_count": 1,
   "metadata": {},
   "outputs": [],
   "source": [
    "import math\n",
    "import pandas as pd\n",
    "import numpy as np\n",
    "from sklearn.model_selection import train_test_split\n",
    "from sklearn.svm import SVC\n",
    "from sklearn.metrics import classification_report, accuracy_score\n",
    "import joblib\n",
    "import os\n"
   ]
  },
  {
   "cell_type": "code",
   "execution_count": 3,
   "metadata": {},
   "outputs": [],
   "source": [
    "def compute_tf(document):\n",
    "    \n",
    "    words = document.lower().split()\n",
    "    word_count = {}\n",
    "    total_words = len(words)\n",
    "    for word in words:\n",
    "        word_count[word] = word_count.get(word, 0) + 1\n",
    "    tf = {word: count / total_words for word, count in word_count.items()}\n",
    "    return tf\n",
    "\n",
    "def compute_idf(documents):\n",
    "    \n",
    "    N = len(documents)\n",
    "    word_df = {}\n",
    "    for doc in documents:\n",
    "        words = set(doc.split())\n",
    "        for word in words:\n",
    "            word_df[word] = word_df.get(word, 0) + 1\n",
    "    idf = {word: math.log((N + 1) / (df + 1)) + 1 for word, df in word_df.items()}\n",
    "    return idf\n",
    "\n",
    "def compute_tf_idf(documents, idf_scores=None):\n",
    "    \n",
    "    if idf_scores is None:\n",
    "        idf_scores = compute_idf(documents)\n",
    "    tf_idf = []\n",
    "    for doc in documents:\n",
    "        tf_scores = compute_tf(doc)\n",
    "        tf_idf_s = {word: tf_scores[word] * idf_scores.get(word, 0) for word in tf_scores}\n",
    "        tf_idf.append(tf_idf_s)\n",
    "    return tf_idf"
   ]
  },
  {
   "cell_type": "code",
   "execution_count": 4,
   "metadata": {},
   "outputs": [],
   "source": [
    "def convert_to_matrix(tf_idf_scores, vocabulary):\n",
    "    matrix = [[doc_scores.get(word, 0) for word in vocabulary] for doc_scores in tf_idf_scores]\n",
    "    return matrix"
   ]
  },
  {
   "cell_type": "code",
   "execution_count": 9,
   "metadata": {},
   "outputs": [],
   "source": [
    "# File paths for saving model and data\n",
    "MODEL_PATH = 'pickel/svm_model.pkl'\n",
    "VOCAB_PATH = 'pickel/vocabulary.pkl'\n",
    "IDF_PATH = 'pickel/idf_scores.pkl'\n",
    "\n",
    "def  train_model(X_train_list, y_train):\n",
    "    idf_scores = compute_idf(X_train_list)\n",
    "    tf_idf_train = compute_tf_idf(X_train_list, idf_scores)\n",
    "    vocabulary = sorted(set().union(*[doc_scores.keys() for doc_scores in tf_idf_train]))\n",
    "\n",
    "    tf_idf_train = compute_tf_idf(X_train_list, idf_scores)\n",
    "    X_train_matrix = convert_to_matrix(tf_idf_train, vocabulary)\n",
    "    X_train_array = np.array(X_train_matrix)\n",
    "\n",
    "    # Train SVM model\n",
    "    svm_model = SVC(kernel='linear', random_state=42)\n",
    "    svm_model.fit(X_train_array, y_train)\n",
    "\n",
    "    joblib.dump(svm_model, MODEL_PATH)\n",
    "    joblib.dump(vocabulary, VOCAB_PATH)\n",
    "    joblib.dump(idf_scores, IDF_PATH)\n",
    "\n",
    "    print(\"Model trained and saved successfully!\")\n",
    "    return svm_model, vocabulary, idf_scores\n",
    "\n",
    "def predict_with_model(X_test_list):\n",
    "    if not (os.path.exists(MODEL_PATH) and os.path.exists(VOCAB_PATH) and os.path.exists(IDF_PATH)):\n",
    "        print(\"No saved model or data found. Please train the model first!\")\n",
    "        return None\n",
    "\n",
    "    # Load model, vocabulary, and IDF scores\n",
    "    svm_model = joblib.load(MODEL_PATH)\n",
    "    vocabulary = joblib.load(VOCAB_PATH)\n",
    "    idf_scores = joblib.load(IDF_PATH)\n",
    "\n",
    "    # Compute TF-IDF for test data\n",
    "    tf_idf_test = compute_tf_idf(X_test_list, idf_scores)\n",
    "    X_test_matrix = convert_to_matrix(tf_idf_test, vocabulary)\n",
    "    X_test_array = np.array(X_test_matrix)\n",
    "\n",
    "    # Predict\n",
    "    y_pred = svm_model.predict(X_test_array)\n",
    "    return y_pred"
   ]
  },
  {
   "cell_type": "code",
   "execution_count": 10,
   "metadata": {},
   "outputs": [],
   "source": [
    "\n",
    "def predict_text(text):\n",
    "    \n",
    "    if not (os.path.exists(MODEL_PATH) and os.path.exists(VOCAB_PATH) and os.path.exists(IDF_PATH)):\n",
    "        print(\"No saved model or data found. Please train the model first!\")\n",
    "        return None\n",
    "\n",
    "   \n",
    "    svm_model = joblib.load(MODEL_PATH)\n",
    "    vocabulary = joblib.load(VOCAB_PATH)\n",
    "    idf_scores = joblib.load(IDF_PATH)\n",
    "\n",
    "    text_list = [text]  \n",
    "    tf_idf = compute_tf_idf(text_list, idf_scores)\n",
    "    text_matrix = convert_to_matrix(tf_idf, vocabulary)\n",
    "    text_array = np.array(text_matrix)\n",
    "\n",
    "    # Predict\n",
    "    prediction = svm_model.predict(text_array)[0]  \n",
    "    return prediction"
   ]
  },
  {
   "cell_type": "code",
   "execution_count": 11,
   "metadata": {},
   "outputs": [
    {
     "name": "stdout",
     "output_type": "stream",
     "text": [
      "Model trained and saved successfully!\n",
      "Accuracy: 0.998\n",
      "\n",
      "Classification Report:\n",
      "              precision    recall  f1-score   support\n",
      "\n",
      "           0       1.00      1.00      1.00       476\n",
      "           1       1.00      1.00      1.00       524\n",
      "\n",
      "    accuracy                           1.00      1000\n",
      "   macro avg       1.00      1.00      1.00      1000\n",
      "weighted avg       1.00      1.00      1.00      1000\n",
      "\n"
     ]
    }
   ],
   "source": [
    "data = pd.read_csv('dataset.csv')\n",
    "X = data['text'].fillna('')  \n",
    "y = data['label']\n",
    "\n",
    "X_train, X_test, y_train, y_test = train_test_split(X, y, test_size=0.2, random_state=42)\n",
    "X_train_list = X_train.tolist()\n",
    "X_test_list = X_test.tolist()\n",
    "\n",
    "if not os.path.exists(MODEL_PATH):\n",
    "    svm_model, vocabulary, idf_scores =  train_model(X_train_list, y_train)\n",
    "else:\n",
    "    print(\"Model already exists, skipping training.\")\n",
    "\n",
    "y_pred = predict_with_model(X_test_list)\n",
    "\n",
    "if y_pred is not None:\n",
    "    print(\"Accuracy:\", accuracy_score(y_test, y_pred))\n",
    "    print(\"\\nClassification Report:\")\n",
    "    print(classification_report(y_test, y_pred))"
   ]
  },
  {
   "cell_type": "code",
   "execution_count": 12,
   "metadata": {},
   "outputs": [
    {
     "name": "stdout",
     "output_type": "stream",
     "text": [
      "\n",
      "Example prediction:\n",
      "Text: 'bán khóa học giá rẻ'\n",
      "Predicted label: 1\n"
     ]
    }
   ],
   "source": [
    "if __name__ == \"__main__\":\n",
    "    example_text = \"bán khóa học giá rẻ\"\n",
    "    predicted_label = predict_text(example_text)\n",
    "    print(f\"\\nExample prediction:\")\n",
    "    print(f\"Text: '{example_text}'\")\n",
    "    print(f\"Predicted label: {predicted_label}\")"
   ]
  }
 ],
 "metadata": {
  "kernelspec": {
   "display_name": "Python 3",
   "language": "python",
   "name": "python3"
  },
  "language_info": {
   "codemirror_mode": {
    "name": "ipython",
    "version": 3
   },
   "file_extension": ".py",
   "mimetype": "text/x-python",
   "name": "python",
   "nbconvert_exporter": "python",
   "pygments_lexer": "ipython3",
   "version": "3.12.3"
  }
 },
 "nbformat": 4,
 "nbformat_minor": 2
}
